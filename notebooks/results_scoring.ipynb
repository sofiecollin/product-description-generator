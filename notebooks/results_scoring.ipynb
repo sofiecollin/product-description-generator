{
 "cells": [
  {
   "cell_type": "markdown",
   "metadata": {},
   "source": [
    "# Comparing the results of original description with the ones made by the model.\n",
    "\n",
    "## Getting started\n",
    "To get started, simply run the cell below to get set up. All the work will be done further down in this notebook."
   ]
  },
  {
   "cell_type": "code",
   "execution_count": 32,
   "metadata": {},
   "outputs": [],
   "source": [
    "import openai \n",
    "from langchain.prompts import ChatPromptTemplate\n",
    "from langchain.chat_models import AzureChatOpenAI\n",
    "from langchain.callbacks import get_openai_callback\n",
    "\n",
    "import pandas as pd\n",
    "import numpy as np\n",
    "import json\n",
    "import time\n",
    "\n",
    "from IPython.display import display, Markdown, HTML\n",
    "\n",
    "\n",
    "class product_description_agent:\n",
    "\n",
    "    def __init__(self, input_base_url, input_api_key, deployment, system_context, human_message, temperature = 0):\n",
    "        BASE_URL = input_base_url\n",
    "        API_KEY = input_api_key\n",
    "        API_TYPE = \"azure\"\n",
    "        API_VERSION = \"2023-07-01-preview\"\n",
    "        DEPLOYMENT_NAME = deployment\n",
    "        MODEL_TEMPERATURE = temperature\n",
    "\n",
    "        prompt = ChatPromptTemplate.from_messages(\n",
    "            [\n",
    "                (\"system\", system_context),\n",
    "                (\"human\", human_message),\n",
    "            ]\n",
    "        )\n",
    "\n",
    "        model = AzureChatOpenAI(\n",
    "            temperature=MODEL_TEMPERATURE,\n",
    "            openai_api_base=BASE_URL,\n",
    "            openai_api_version=API_VERSION,\n",
    "            deployment_name=DEPLOYMENT_NAME,\n",
    "            openai_api_key=API_KEY,\n",
    "            openai_api_type=API_TYPE,\n",
    "        )\n",
    "\n",
    "        self.chain = prompt | model\n",
    "\n",
    "    def evaluate_inputs(self,texts):\n",
    "        result = self.chain.invoke({\n",
    "            \"reference_text\": texts[0][\"LONGDESCRIPTION\"],\n",
    "            \"text_to_compare\": texts[1][\"LONGDESCRIPTION\"]})\n",
    "        return result.content\n",
    "\n",
    "\n",
    "def process_output (output):\n",
    "    \n",
    "    for key, value in output.items():\n",
    "        display(Markdown(f\"#### {value['title']}\"))\n",
    "        display(HTML(value[\"result\"]))\n",
    "        print(\"\\n ----------------------------------------------------------\\n\")\n",
    "\n",
    "\n",
    "def run(inputs,\n",
    "        baseurl, \n",
    "        apikey, \n",
    "        deployment, \n",
    "        system_message, \n",
    "        human_message,\n",
    "        temperature):\n",
    "\n",
    "\n",
    "    model = product_description_agent(baseurl, apikey, deployment, system_message, human_message, temperature)\n",
    "\n",
    "    output = {}\n",
    "   \n",
    "    with get_openai_callback() as cb:\n",
    "        texts= []\n",
    "        for key, value in inputs.items():\n",
    "            texts.append(value)\n",
    "            title= value[\"TITLE\"]\n",
    "        result = model.evaluate_inputs(texts)\n",
    "        output[key] = {\n",
    "                \"title\": title,\n",
    "                \"result\": result\n",
    "            }\n",
    "    \n",
    "\n",
    "    process_output(output)\n",
    "\n",
    "    return output\n",
    "\n",
    "def convert_dfrow_to_json(dfrow):\n",
    "    return json.loads(dfrow.to_json(orient='records', lines=True))\n",
    "\n",
    "def generate_input_files(file_names, row_number):\n",
    "\n",
    "    list_to_return ={}\n",
    "    for f in file_names:\n",
    "        df = pd.read_csv(f, index_col=False) \n",
    "        dfrow= pd.DataFrame(df.iloc[row_number]).T\n",
    "        list_to_return[f] = convert_dfrow_to_json(dfrow)\n",
    "       \n",
    "    return list_to_return\n"
   ]
  },
  {
   "cell_type": "code",
   "execution_count": 33,
   "metadata": {},
   "outputs": [],
   "source": [
    "import os\n",
    "from dotenv import load_dotenv\n",
    "\n",
    "load_dotenv(\"../azureopenaiapikey.env\")\n",
    "BASE_URL = os.getenv(\"OPENAI_API_BASE\")\n",
    "API_KEY = os.getenv(\"OPENAI_API_KEY\")\n",
    "\n",
    "# Which model to use:\n",
    "#  - for GPT 4 use \"gpt-4\"\n",
    "#  - for GPT 3.5, use \"gpt-35-turbo-16k\"\n",
    "deployment = \"gpt-35-turbo-16k\" #for gpt 3.5, use \"gpt-35-turbo-16k\"\n",
    "\n",
    "# Model temperature is a variable that tells how \"creative\" the model can be. Use a number between 0 and 1.\n",
    "# 0 tells the model to remain factual (as much as possible)\n",
    "# 1 allows the model to be fully creative\n",
    "temperature = 0.1 \n",
    "\n",
    "# This is the context passed to the model that \"sets the scene\". \n",
    "# Typically a chatbot has a system context similar to \"you are a helpful AI assistant\". \n",
    "# The text you modified above gets injected into the variable names in {curly brackets}. \n",
    "system_context = f\"\"\"\n",
    "    You are an advanced AI that specializes in understanding, scoring and comparing the content of two pieces of text.\n",
    "    These two texts are product descriptions for a business product.The first text is the original product description,\n",
    "    and the second text is the product description that has been generated by a large language model.You have three tasks to do:\n",
    "    \n",
    "    Task1: Score each of the texts based on their selling sentiment,grammer and structure,information quality and formatting.\n",
    "    Use the following definitions and scales to evaluate each criterion:\n",
    "    \n",
    "    Selling sentiments:Written in a way that evokes emotional responses that enhance likelihood of sales conversion, leveraging persuasive language and relatable messaging\n",
    "    1.Neutral Explanation:  The text is neutral and does not evoke any emotional response.\n",
    "    2.Slightly Informative: The text is slightly informative and evokes a slight emotional response.\n",
    "    3.Moderately Descriptive:  The text is moderately descriptive and evokes a moderate emotional response.\n",
    "    4.Fairly Detailed:  The text is fairly detailed and evokes a fairly strong emotional response.\n",
    "    5.Highly Expressive:  The text is highly expressive and evokes a strong emotional response.\n",
    "    \n",
    "    Grammer and structure: Clarity of expression and an effective communication style, conveying information in a compelling and engaging manner.\n",
    "    1. Poor: The text is poorly written with lots of gramatical, spelling and punctuation mistakes and is difficult to understand.\n",
    "    2. Fair: The text is fairly written with some gramatical, spelling and punctuation mistakes and is somewhat difficult to understand.\n",
    "    3. Good: The text is well written with few gramatical, spelling and punctuation mistakes and is easy to understand.\n",
    "    4. Very Good: The text is very well written with no gramatical, spelling and punctuation mistakes and is very easy to understand.\n",
    "    5. Excellent: The text is excellently written with no gramatical, spelling and punctuation mistakes and is very easy to understand.\n",
    "    \n",
    "    Information quality: Provide valuable knowledge and insights, offering the potential customers information that improves their understanding of the given product.\n",
    "    1. Poor: The text does not provide any valuable knowledge and insights about the product.\n",
    "    2. Fair: The text provides some valuable knowledge and insights about the product.\n",
    "    3. Good: The text provides good valuable knowledge and insights about the product.\n",
    "    4. Very Good: The text provides very good valuable knowledge and insights about the product.\n",
    "    5. Excellent: The text provides excellent valuable knowledge and insights about the product.\n",
    "    \n",
    "    Formatting: Employing clear headings, structural elements to enhance readability and comprehension for the potential customers.\n",
    "    1. Poor: The text does not employ any formatting.\n",
    "    2. Fair: The text employs some  formatting.\n",
    "    3. Good: The text employs good  formatting.\n",
    "    4. Very Good: The text employs very good formatting.\n",
    "    5. Excellent: The text employs excellent formatting.\n",
    "    \n",
    "    Task2: Add two more scores to the second text based on the following criteria:formality and hallucinations.\n",
    "    Use the following definitions and scales to evaluate each criterion:\n",
    "    \n",
    "    Foramlity: Maintain a professional and formal tone by avoiding the use of emojis\n",
    "    0. No: The text is informal and uses emojis.\n",
    "    1. Yes: The text is formal and does not use emojis.\n",
    "    \n",
    "    Hallucinations: Ensuring that there are no information or attributes that are not accurate or true compared to the original product description.\n",
    "    score between 0 and 100%, where 0 means that the text is completely accurate and does not have extra incorrect info. compared to the original text.\n",
    "    and 100% means that the text has high hunallucinations.\n",
    "    \n",
    "    Task 3: Provide your justification after scoring all the criteria per text.\n",
    "    The answer MUST be according to the predefined metrics as in the following example and DO NOT change the format:\n",
    "    \n",
    "    Reference Text: \n",
    "    Selling sentiments: 4\n",
    "    Grammer and structure: 4\n",
    "    Information quality: 5\n",
    "    Formatting: 4\n",
    "    Justification: The refernce text has good grammer and structure, high information quality and good formatting.\n",
    "    \n",
    "    Model output Text: \n",
    "    Selling sentiments: 4\n",
    "    Grammer and structure: 3\n",
    "    Information quality: 3\n",
    "    Formatting: 4\n",
    "    Formality: 1\n",
    "    Hallucinations: 10 percent (this is about it has not used one of the key features in the original text.)\n",
    "    Justification: The model output text has good selling sentiments and good formatting. It is formal as it does not use emojis,However, it has some grammer and structure mistakes and some hallucinations.\n",
    "\"\"\"\n",
    "\n",
    "\n",
    "human_message = \"\"\"Please evaluate these two texts:(Reference Text and Model output Text) \n",
    "\n",
    "and provide your scores in terms of selling sentiment,\n",
    "grammer and structure,information quality and formatting.\n",
    "Also add two more scores to the Model output Text based on the following criteria:formality and hallucinations.\n",
    "Wrtie your justification after scoring all the criteria for each text.\n",
    "\n",
    "\n",
    "```\n",
    "Reference Text: {reference_text}\n",
    "Model output Text: {text_to_compare}\n",
    "```\n",
    "\"\"\"\n",
    "\n"
   ]
  },
  {
   "cell_type": "code",
   "execution_count": 34,
   "metadata": {},
   "outputs": [],
   "source": [
    "# The paths should change based on the location of the files"
   ]
  },
  {
   "cell_type": "code",
   "execution_count": 35,
   "metadata": {},
   "outputs": [
    {
     "data": {
      "text/markdown": [
       "#### DELTACO e-Charge, cable type 2 - type 2, 1 phase, 32A, 10M"
      ],
      "text/plain": [
       "<IPython.core.display.Markdown object>"
      ]
     },
     "metadata": {},
     "output_type": "display_data"
    },
    {
     "data": {
      "text/html": [
       "Reference Text: \n",
       "Selling sentiments: 3\n",
       "Grammer and structure: 4\n",
       "Information quality: 5\n",
       "Formatting: 4\n",
       "Justification: The reference text has slightly informative selling sentiments, good grammar and structure, excellent information quality, and good formatting. The text provides valuable knowledge about the product, uses clear headings and structural elements, and is well-written with no grammatical or punctuation mistakes.\n",
       "\n",
       "Model output Text: \n",
       "Selling sentiments: 3\n",
       "Grammer and structure: 4\n",
       "Information quality: 4\n",
       "Formatting: 4\n",
       "Formality: 1\n",
       "Hallucinations: 0%\n",
       "Justification: The model output text has slightly informative selling sentiments, good grammar and structure, good information quality, and good formatting. The text is formal as it does not use emojis. It provides valuable knowledge about the product, uses clear headings and structural elements, and is well-written with no grammatical or punctuation mistakes. There are no hallucinations as the text accurately represents the original product description."
      ],
      "text/plain": [
       "<IPython.core.display.HTML object>"
      ]
     },
     "metadata": {},
     "output_type": "display_data"
    },
    {
     "name": "stdout",
     "output_type": "stream",
     "text": [
      "\n",
      " ----------------------------------------------------------\n",
      "\n"
     ]
    },
    {
     "data": {
      "text/markdown": [
       "#### Tado Smart Radiator Thermostat StarterKit V3+"
      ],
      "text/plain": [
       "<IPython.core.display.Markdown object>"
      ]
     },
     "metadata": {},
     "output_type": "display_data"
    },
    {
     "data": {
      "text/html": [
       "Reference Text: \n",
       "Selling sentiments: 4\n",
       "Grammer and structure: 4\n",
       "Information quality: 5\n",
       "Formatting: 4\n",
       "Justification: The reference text has good grammar and structure, high information quality, and good formatting. It effectively conveys the benefits and features of the product, using persuasive language and clear explanations. The text is well-written with no grammatical or spelling mistakes, making it easy to understand. It provides valuable knowledge and insights about the product, including its compatibility, features, and benefits. The formatting is good, with clear headings and structural elements that enhance readability and comprehension.\n",
       "\n",
       "Model output Text: \n",
       "Selling sentiments: 4\n",
       "Grammer and structure: 3\n",
       "Information quality: 3\n",
       "Formatting: 4\n",
       "Formality: 1\n",
       "Hallucinations: 10 percent\n",
       "Justification: The model output text has good selling sentiments and good formatting. It effectively conveys the benefits and features of the product, using persuasive language and clear explanations. However, it has some grammar and structure mistakes, such as missing punctuation and unclear sentence structure, making it somewhat difficult to understand. The information quality is fair, as it provides some valuable knowledge and insights about the product, but it lacks the level of detail and clarity present in the reference text. The formatting is good, with clear headings and structural elements. The text is formal as it does not use emojis. However, it has some hallucinations, with some information not accurately reflecting the original product description."
      ],
      "text/plain": [
       "<IPython.core.display.HTML object>"
      ]
     },
     "metadata": {},
     "output_type": "display_data"
    },
    {
     "name": "stdout",
     "output_type": "stream",
     "text": [
      "\n",
      " ----------------------------------------------------------\n",
      "\n"
     ]
    },
    {
     "data": {
      "text/markdown": [
       "#### SteelSeries Aerox 3 gaming mouse 2022 Edition (Onyx)"
      ],
      "text/plain": [
       "<IPython.core.display.Markdown object>"
      ]
     },
     "metadata": {},
     "output_type": "display_data"
    },
    {
     "data": {
      "text/html": [
       "Reference Text: \n",
       "Selling sentiments: 4\n",
       "Grammer and structure: 4\n",
       "Information quality: 5\n",
       "Formatting: 4\n",
       "Justification: The reference text has good grammar and structure, high information quality, and good formatting. It effectively combines speed and accuracy in the product description, providing valuable knowledge about the features and benefits of the SteelSeries Aerox 3 gaming mouse. The text is well-written, easy to understand, and uses clear headings and structural elements to enhance readability.\n",
       "\n",
       "Model output Text: \n",
       "Selling sentiments: 4\n",
       "Grammer and structure: 3\n",
       "Information quality: 3\n",
       "Formatting: 4\n",
       "Formality: 1\n",
       "Hallucinations: 10 percent\n",
       "Justification: The model output text has good selling sentiments and good formatting. It effectively highlights the key features of the SteelSeries Aerox 3 gaming mouse and uses clear headings and structural elements. However, it has some grammar and structure mistakes, which make it slightly difficult to understand. The information quality is slightly lower compared to the reference text as it lacks some details and insights. Additionally, the model output text is formal as it does not use emojis. However, it has some hallucinations, with 10% of the information not accurately reflecting the original product description."
      ],
      "text/plain": [
       "<IPython.core.display.HTML object>"
      ]
     },
     "metadata": {},
     "output_type": "display_data"
    },
    {
     "name": "stdout",
     "output_type": "stream",
     "text": [
      "\n",
      " ----------------------------------------------------------\n",
      "\n"
     ]
    }
   ],
   "source": [
    "original_file_path=\"../test/full_testset/test_results/ouput_testset_med_desc_gpt3.5.csv\"\n",
    "# we can change the output file path to test different outputs\n",
    "output_file_path= \"../test/full_testset/testset_product_medium_desc_original.csv\"\n",
    "\n",
    "input_file_names=[original_file_path,output_file_path]\n",
    "# n is the number of products to evaluate (the number of products in the input files)\n",
    "n= 3\n",
    "for row_number in range(0,n):\n",
    "    inputs = generate_input_files(input_file_names, row_number)\n",
    "    result = run(inputs, BASE_URL, API_KEY, deployment, system_context, human_message, temperature)"
   ]
  }
 ],
 "metadata": {
  "kernelspec": {
   "display_name": "ElkjopPOC",
   "language": "python",
   "name": "python3"
  },
  "language_info": {
   "codemirror_mode": {
    "name": "ipython",
    "version": 3
   },
   "file_extension": ".py",
   "mimetype": "text/x-python",
   "name": "python",
   "nbconvert_exporter": "python",
   "pygments_lexer": "ipython3",
   "version": "3.10.13"
  }
 },
 "nbformat": 4,
 "nbformat_minor": 2
}
